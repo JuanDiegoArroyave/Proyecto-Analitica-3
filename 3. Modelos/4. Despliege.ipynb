{
 "cells": [
  {
   "cell_type": "code",
   "execution_count": 1,
   "metadata": {},
   "outputs": [],
   "source": [
    "import func_mod as funciones  ###archivo de funciones propias\n",
    "import pandas as pd ### para manejo de datos\n",
    "import joblib\n",
    "import openpyxl ## para exportar a excel\n",
    "import numpy as np\n",
    "import matplotlib.pyplot as plt\n",
    "import seaborn as sns"
   ]
  },
  {
   "cell_type": "code",
   "execution_count": 3,
   "metadata": {},
   "outputs": [],
   "source": [
    "if __name__==\"__main__\":\n",
    "    \n",
    "    df = pd.read_excel(r'C:\\Users\\alejo\\OneDrive\\Documentos\\Analítica-3\\Repos\\Recursos_humanos_git\\Proyecto-Analitica-3\\data\\base_calificar.xlsx')\n",
    "\n",
    "    df['EmployeeID'] = df['EmployeeID'].astype(str)\n",
    "    df.drop('EmployeeCount', axis=1, inplace=True)\n",
    "    df.drop('StandardHours', axis=1, inplace=True)\n",
    "    df.drop('Over18', axis=1, inplace=True)\n",
    "    df.drop('InfoDate', axis=1, inplace=True)\n",
    "    list_dummies=['BusinessTravel', 'Department','EducationField','Gender', 'JobRole', 'MaritalStatus']\n",
    "    df=pd.get_dummies(df,columns=list_dummies)\n",
    "\n",
    "    ids = df['EmployeeID']\n",
    "\n",
    "    X= df.loc[:,~df.columns.isin(['EmployeeID'])]\n",
    "    \n",
    "    import joblib\n",
    "\n",
    "    # Cargar el modelo guardado\n",
    "    loaded_model = joblib.load('random_forest_model.pkl')\n",
    "\n",
    "    # Ahora puedes usar `loaded_model` para hacer predicciones\n",
    "    y_pred = loaded_model.predict(X)\n",
    "    y_scores = loaded_model.predict_proba(X)[:, 1]\n",
    "\n",
    "    # Crear un DataFrame con las predicciones y las probabilidades\n",
    "    predictions_df = pd.DataFrame({\n",
    "        'id_empleado': ids,\n",
    "        'predicted_probabilities': y_scores  # Probabilidades\n",
    "    })\n",
    "    # Definir los rangos de las probabilidades (0 a 1 en intervalos de 0.1)\n",
    "    bins = [0, 0.1, 0.2, 0.3, 0.4, 0.5, 0.6, 0.7, 0.8, 0.9, 1.0]\n",
    "\n",
    "    # Etiquetas para los intervalos\n",
    "    labels = ['0-0.1', '0.1-0.2', '0.2-0.3', '0.3-0.4', '0.4-0.5', '0.5-0.6', '0.6-0.7', '0.7-0.8', '0.8-0.9', '0.9-1.0']\n",
    "\n",
    "    # Crear una nueva columna que clasifique las probabilidades en rangos\n",
    "    predictions_df['probability_range'] = pd.cut(predictions_df['predicted_probabilities'], bins=bins, labels=labels, include_lowest=True)\n",
    "\n",
    "    # Contar cuántas predicciones caen en cada rango\n",
    "    count_by_range = predictions_df['probability_range'].value_counts().sort_index()\n",
    "    # Definir los rangos de las probabilidades\n",
    "    bins = [0, 0.3, 0.7, 1.0]\n",
    "\n",
    "    # Etiquetas para los niveles de riesgo\n",
    "    labels = ['Riesgo bajo', 'Riesgo medio', 'Riesgo alto']\n",
    "\n",
    "    # Crear la nueva columna 'riesgo_desercion' con base en los rangos de probabilidad\n",
    "    predictions_df['riesgo_desercion'] = pd.cut(predictions_df['predicted_probabilities'], bins=bins, labels=labels, include_lowest=True)\n",
    "\n",
    "    df_final = pd.DataFrame()\n",
    "    df_final[\"Prob_desercion\"]= (round(predictions_df['predicted_probabilities'] * 100,2)).astype(str) + '%'\n",
    "    df_final[\"Riesgo_desercion\"] = predictions_df[\"riesgo_desercion\"]\n",
    "\n",
    "    importances = loaded_model.feature_importances_\n",
    "    df_impor = pd.DataFrame({'Variable': X.columns, 'Importancia': importances})\n",
    "    df_impor = df_impor.sort_values(by='Importancia', ascending=False)\n",
    "    \n",
    "    df_final.to_excel(r\"C:\\Users\\alejo\\OneDrive\\Documentos\\Analítica-3\\Repos\\Recursos_humanos_git\\Proyecto-Analitica-3\\salidas\\predicciones.xlsx\")   #### exportar predicciones\n",
    "    df_impor.to_excel(r\"C:\\Users\\alejo\\OneDrive\\Documentos\\Analítica-3\\Repos\\Recursos_humanos_git\\Proyecto-Analitica-3\\salidas\\importancia_var.xlsx\") ### exportar coeficientes para analizar predicciones"
   ]
  }
 ],
 "metadata": {
  "kernelspec": {
   "display_name": "Python 3",
   "language": "python",
   "name": "python3"
  },
  "language_info": {
   "codemirror_mode": {
    "name": "ipython",
    "version": 3
   },
   "file_extension": ".py",
   "mimetype": "text/x-python",
   "name": "python",
   "nbconvert_exporter": "python",
   "pygments_lexer": "ipython3",
   "version": "3.12.2"
  }
 },
 "nbformat": 4,
 "nbformat_minor": 2
}
