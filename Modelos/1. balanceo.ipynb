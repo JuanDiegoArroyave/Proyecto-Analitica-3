{
 "cells": [
  {
   "cell_type": "code",
   "execution_count": 1,
   "metadata": {},
   "outputs": [],
   "source": [
    "import pandas as pd ### para manejo de datos\n",
    "import sqlite3 as sql\n",
    "\n",
    "import func_mod as funciones  ###archivo de funciones propias\n",
    "from sklearn.model_selection import cross_val_score\n",
    "from sklearn.tree import DecisionTreeClassifier\n",
    "from sklearn.ensemble import RandomForestClassifier, GradientBoostingClassifier\n",
    "from sklearn.linear_model import LogisticRegression\n",
    "from sklearn.svm import SVC\n",
    "from sklearn.model_selection import cross_val_predict, cross_val_score, cross_validate\n",
    "from sklearn.metrics import mean_squared_error\n",
    "from sklearn import metrics\n",
    "\n",
    "import numpy as np\n",
    "import matplotlib.pyplot as plt ### gráficos\n",
    "from sklearn.model_selection import RandomizedSearchCV\n",
    "import joblib  ### para guardar modelos\n",
    "from sklearn.preprocessing import StandardScaler ## escalar variables \n",
    "import openpyxl"
   ]
  },
  {
   "cell_type": "code",
   "execution_count": 2,
   "metadata": {},
   "outputs": [],
   "source": [
    "# Cambiar ruta a ruta local de cada usuario\n",
    "df = pd.read_excel(r'C:\\Users\\alejo\\OneDrive\\Documentos\\Analítica-3\\Repos\\Recursos_humanos_git\\Proyecto-Analitica-3\\data\\base_a_modelar.xlsx')"
   ]
  },
  {
   "cell_type": "code",
   "execution_count": 3,
   "metadata": {},
   "outputs": [
    {
     "data": {
      "text/plain": [
       "Attrition\n",
       "0    3666\n",
       "1     634\n",
       "Name: count, dtype: int64"
      ]
     },
     "execution_count": 3,
     "metadata": {},
     "output_type": "execute_result"
    }
   ],
   "source": [
    "df.Attrition.value_counts()"
   ]
  },
  {
   "cell_type": "code",
   "execution_count": 4,
   "metadata": {},
   "outputs": [
    {
     "data": {
      "text/plain": [
       "0.1729405346426623"
      ]
     },
     "execution_count": 4,
     "metadata": {},
     "output_type": "execute_result"
    }
   ],
   "source": [
    "((df.Attrition == 1).sum())/((df.Attrition == 0).sum())"
   ]
  },
  {
   "cell_type": "code",
   "execution_count": 5,
   "metadata": {},
   "outputs": [],
   "source": [
    "y=df.Attrition\n",
    "X= df.loc[:,~df.columns.isin(['Attrition','EmployeeID'])]"
   ]
  },
  {
   "cell_type": "code",
   "execution_count": 9,
   "metadata": {},
   "outputs": [],
   "source": [
    "oversample_ratios = [0.1729405346426623, 0.2, 0.3, 0.4, 0.5, 0.6, 0.7, 0.8, 0.9, 1.0]  \n",
    "\n",
    "results_df = funciones.evaluate_model_with_oversampling(X, y, oversample_ratios)"
   ]
  },
  {
   "cell_type": "code",
   "execution_count": 10,
   "metadata": {},
   "outputs": [
    {
     "data": {
      "text/html": [
       "<div>\n",
       "<style scoped>\n",
       "    .dataframe tbody tr th:only-of-type {\n",
       "        vertical-align: middle;\n",
       "    }\n",
       "\n",
       "    .dataframe tbody tr th {\n",
       "        vertical-align: top;\n",
       "    }\n",
       "\n",
       "    .dataframe thead th {\n",
       "        text-align: right;\n",
       "    }\n",
       "</style>\n",
       "<table border=\"1\" class=\"dataframe\">\n",
       "  <thead>\n",
       "    <tr style=\"text-align: right;\">\n",
       "      <th></th>\n",
       "      <th>oversample_ratio</th>\n",
       "      <th>precision</th>\n",
       "      <th>recall</th>\n",
       "      <th>f1</th>\n",
       "      <th>aucpr</th>\n",
       "    </tr>\n",
       "  </thead>\n",
       "  <tbody>\n",
       "    <tr>\n",
       "      <th>0</th>\n",
       "      <td>0.172941</td>\n",
       "      <td>0.838710</td>\n",
       "      <td>0.135417</td>\n",
       "      <td>0.233184</td>\n",
       "      <td>0.536506</td>\n",
       "    </tr>\n",
       "    <tr>\n",
       "      <th>1</th>\n",
       "      <td>0.200000</td>\n",
       "      <td>0.692308</td>\n",
       "      <td>0.140625</td>\n",
       "      <td>0.233766</td>\n",
       "      <td>0.503737</td>\n",
       "    </tr>\n",
       "    <tr>\n",
       "      <th>2</th>\n",
       "      <td>0.300000</td>\n",
       "      <td>0.666667</td>\n",
       "      <td>0.177083</td>\n",
       "      <td>0.279835</td>\n",
       "      <td>0.499391</td>\n",
       "    </tr>\n",
       "    <tr>\n",
       "      <th>3</th>\n",
       "      <td>0.400000</td>\n",
       "      <td>0.677966</td>\n",
       "      <td>0.208333</td>\n",
       "      <td>0.318725</td>\n",
       "      <td>0.483735</td>\n",
       "    </tr>\n",
       "    <tr>\n",
       "      <th>4</th>\n",
       "      <td>0.500000</td>\n",
       "      <td>0.589744</td>\n",
       "      <td>0.239583</td>\n",
       "      <td>0.340741</td>\n",
       "      <td>0.469258</td>\n",
       "    </tr>\n",
       "    <tr>\n",
       "      <th>5</th>\n",
       "      <td>0.600000</td>\n",
       "      <td>0.542056</td>\n",
       "      <td>0.302083</td>\n",
       "      <td>0.387960</td>\n",
       "      <td>0.464711</td>\n",
       "    </tr>\n",
       "    <tr>\n",
       "      <th>6</th>\n",
       "      <td>0.700000</td>\n",
       "      <td>0.444444</td>\n",
       "      <td>0.354167</td>\n",
       "      <td>0.394203</td>\n",
       "      <td>0.463583</td>\n",
       "    </tr>\n",
       "    <tr>\n",
       "      <th>7</th>\n",
       "      <td>0.800000</td>\n",
       "      <td>0.404624</td>\n",
       "      <td>0.364583</td>\n",
       "      <td>0.383562</td>\n",
       "      <td>0.434965</td>\n",
       "    </tr>\n",
       "    <tr>\n",
       "      <th>8</th>\n",
       "      <td>0.900000</td>\n",
       "      <td>0.405797</td>\n",
       "      <td>0.437500</td>\n",
       "      <td>0.421053</td>\n",
       "      <td>0.449538</td>\n",
       "    </tr>\n",
       "    <tr>\n",
       "      <th>9</th>\n",
       "      <td>1.000000</td>\n",
       "      <td>0.426087</td>\n",
       "      <td>0.510417</td>\n",
       "      <td>0.464455</td>\n",
       "      <td>0.469753</td>\n",
       "    </tr>\n",
       "  </tbody>\n",
       "</table>\n",
       "</div>"
      ],
      "text/plain": [
       "   oversample_ratio  precision    recall        f1     aucpr\n",
       "0          0.172941   0.838710  0.135417  0.233184  0.536506\n",
       "1          0.200000   0.692308  0.140625  0.233766  0.503737\n",
       "2          0.300000   0.666667  0.177083  0.279835  0.499391\n",
       "3          0.400000   0.677966  0.208333  0.318725  0.483735\n",
       "4          0.500000   0.589744  0.239583  0.340741  0.469258\n",
       "5          0.600000   0.542056  0.302083  0.387960  0.464711\n",
       "6          0.700000   0.444444  0.354167  0.394203  0.463583\n",
       "7          0.800000   0.404624  0.364583  0.383562  0.434965\n",
       "8          0.900000   0.405797  0.437500  0.421053  0.449538\n",
       "9          1.000000   0.426087  0.510417  0.464455  0.469753"
      ]
     },
     "execution_count": 10,
     "metadata": {},
     "output_type": "execute_result"
    }
   ],
   "source": [
    "results_df"
   ]
  },
  {
   "cell_type": "markdown",
   "metadata": {},
   "source": [
    "Se puede ver que en general las mejores métricas se obtienen sin ningún tipo de balanceo, por tanto nos vamos con la base tal cual la tenemos"
   ]
  }
 ],
 "metadata": {
  "kernelspec": {
   "display_name": "Python 3",
   "language": "python",
   "name": "python3"
  },
  "language_info": {
   "codemirror_mode": {
    "name": "ipython",
    "version": 3
   },
   "file_extension": ".py",
   "mimetype": "text/x-python",
   "name": "python",
   "nbconvert_exporter": "python",
   "pygments_lexer": "ipython3",
   "version": "3.12.2"
  }
 },
 "nbformat": 4,
 "nbformat_minor": 2
}
